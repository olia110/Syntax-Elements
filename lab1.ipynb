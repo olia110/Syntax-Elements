{
  "cells": [
    {
      "cell_type": "markdown",
      "metadata": {
        "id": "o2bjMw7fB-jh"
      },
      "source": [
        "# **2. Елементи синтаксису**\n",
        "Сірікова Ольга МІ-41"
      ]
    },
    {
      "cell_type": "markdown",
      "source": [
        "# Додаємо необхідні бібліотеки\n"
      ],
      "metadata": {
        "id": "uLYXIusCguJC"
      }
    },
    {
      "cell_type": "code",
      "source": [
        "import nltk\n",
        "import random\n",
        "import numpy as np\n",
        "from nltk.corpus import brown\n",
        "from tensorflow.keras.models import Model\n",
        "from tensorflow.keras.layers import Input, Embedding, Dense, Flatten\n",
        "from tensorflow.keras.utils import to_categorical"
      ],
      "metadata": {
        "id": "Se6jfHFqXJX3"
      },
      "execution_count": 3,
      "outputs": []
    },
    {
      "cell_type": "code",
      "source": [
        "nltk.download('brown')\n",
        "nltk.download('universal_tagset')\n",
        "nltk.download('punkt')"
      ],
      "metadata": {
        "colab": {
          "base_uri": "https://localhost:8080/"
        },
        "id": "AB44KpEUYeI0",
        "outputId": "9bbac4e6-27e9-451e-a3f8-ec8bc9b18027"
      },
      "execution_count": 4,
      "outputs": [
        {
          "output_type": "stream",
          "name": "stderr",
          "text": [
            "[nltk_data] Downloading package brown to /root/nltk_data...\n",
            "[nltk_data]   Package brown is already up-to-date!\n",
            "[nltk_data] Downloading package universal_tagset to /root/nltk_data...\n",
            "[nltk_data]   Package universal_tagset is already up-to-date!\n",
            "[nltk_data] Downloading package punkt to /root/nltk_data...\n",
            "[nltk_data]   Package punkt is already up-to-date!\n"
          ]
        },
        {
          "output_type": "execute_result",
          "data": {
            "text/plain": [
              "True"
            ]
          },
          "metadata": {},
          "execution_count": 4
        }
      ]
    },
    {
      "cell_type": "code",
      "source": [
        "tagged_sentences = list(brown.tagged_sents(tagset='universal'))\n",
        "random.seed(42)\n",
        "random.shuffle(tagged_sentences)"
      ],
      "metadata": {
        "id": "kbyheTb8Yhad"
      },
      "execution_count": 5,
      "outputs": []
    },
    {
      "cell_type": "markdown",
      "source": [
        "# Розділяємо дані"
      ],
      "metadata": {
        "id": "hSIiZ2uDkGpI"
      }
    },
    {
      "cell_type": "markdown",
      "source": [
        "80% на тренування і 20% для тестування"
      ],
      "metadata": {
        "id": "RIaB8PlSspGO"
      }
    },
    {
      "cell_type": "code",
      "source": [
        "split = int(0.8 * len(tagged_sentences))\n",
        "train_sentences = tagged_sentences[:split]\n",
        "test_sentences = tagged_sentences[split:]"
      ],
      "metadata": {
        "id": "SDakjPxHkGFp"
      },
      "execution_count": 6,
      "outputs": []
    },
    {
      "cell_type": "markdown",
      "source": [
        "# Виділяємо слова і теги з речень у списки\n"
      ],
      "metadata": {
        "id": "guQry1rcrOQL"
      }
    },
    {
      "cell_type": "code",
      "source": [
        "def get_words_and_tags(sentences):\n",
        "    sentences_words = []\n",
        "    sentences_tags = []\n",
        "    for sentence in sentences:\n",
        "        words = [word.lower() for word, tag in sentence]\n",
        "        tags = [tag for word, tag in sentence]\n",
        "        sentences_words.append(words)\n",
        "        sentences_tags.append(tags)\n",
        "    return sentences_words, sentences_tags\n",
        "\n",
        "train_words, train_tags = get_words_and_tags(train_sentences)\n",
        "test_words, test_tags = get_words_and_tags(test_sentences)"
      ],
      "metadata": {
        "id": "1JztlhOjZZre"
      },
      "execution_count": 7,
      "outputs": []
    },
    {
      "cell_type": "code",
      "source": [
        "\n",
        "words = set([w for s in train_words for w in s])\n",
        "tags = set([t for s in train_tags for t in s])\n",
        "\n",
        "word2idx = {w: i + 2 for i, w in enumerate(words)}\n",
        "word2idx['PAD'] = 0\n",
        "word2idx['UNK'] = 1\n",
        "\n",
        "tag2idx = {t: i for i, t in enumerate(tags)}\n",
        "tag2idx['PAD'] = len(tag2idx)\n",
        "\n",
        "idx2word = {i: w for w, i in word2idx.items()}\n",
        "idx2tag = {i: t for t, i in tag2idx.items()}\n",
        "\n",
        "n_words = len(word2idx)\n",
        "n_tags = len(tag2idx)"
      ],
      "metadata": {
        "id": "meOtB72FZdK9"
      },
      "execution_count": 8,
      "outputs": []
    },
    {
      "cell_type": "code",
      "source": [
        "def generate_context_windows(sentences_words, sentences_tags, word2idx, tag2idx, window_size=1):\n",
        "    X = []\n",
        "    y = []\n",
        "    for words, tags in zip(sentences_words, sentences_tags):\n",
        "        words_idx = [word2idx.get(word.lower(), word2idx['UNK']) for word in words]\n",
        "        tags_idx = [tag2idx[tag] for tag in tags]\n",
        "        padded_words = [word2idx['PAD']] * window_size + words_idx + [word2idx['PAD']] * window_size\n",
        "        for i in range(window_size, len(padded_words) - window_size):\n",
        "            context = padded_words[i - window_size:i + window_size + 1]\n",
        "            X.append(context)\n",
        "            y.append(tags_idx[i - window_size])\n",
        "    return np.array(X), np.array(y)"
      ],
      "metadata": {
        "id": "2zyqN8juQJQu"
      },
      "execution_count": 11,
      "outputs": []
    },
    {
      "cell_type": "code",
      "source": [
        "def encode_sentences(sentences, word2idx):\n",
        "    encoded_sentences = []\n",
        "    for sentence in sentences:\n",
        "        encoded_sentence = []\n",
        "        for word in sentence:\n",
        "            encoded_sentence.append(word2idx.get(word, word2idx['UNK']))\n",
        "        encoded_sentences.append(encoded_sentence)\n",
        "    return encoded_sentences\n",
        "\n",
        "def encode_tags(sentences_tags, tag2idx):\n",
        "    encoded_tags = []\n",
        "    for tags in sentences_tags:\n",
        "        encoded_tag = [tag2idx[tag] for tag in tags]\n",
        "        encoded_tags.append(encoded_tag)\n",
        "    return encoded_tags"
      ],
      "metadata": {
        "id": "88641jmHZgZt"
      },
      "execution_count": 12,
      "outputs": []
    },
    {
      "cell_type": "code",
      "source": [
        "\n",
        "# Generate context windows for training and testing data\n",
        "X_train, y_train = generate_context_windows(train_words, train_tags, word2idx, tag2idx, window_size=1)\n",
        "X_test, y_test = generate_context_windows(test_words, test_tags, word2idx, tag2idx, window_size=1)\n",
        "\n",
        "# One-hot encode the tags\n",
        "y_train_cat = to_categorical(y_train, num_classes=n_tags)\n",
        "y_test_cat = to_categorical(y_test, num_classes=n_tags)\n",
        "\n",
        "# Adjust the model to accept context windows\n",
        "inputs = Input(shape=(3,))\n",
        "embedding = Embedding(input_dim=n_words, output_dim=64)(inputs)\n",
        "flatten = Flatten()(embedding)\n",
        "dense = Dense(64, activation='relu')(flatten)\n",
        "output = Dense(n_tags, activation='softmax')(dense)\n",
        "\n",
        "model = Model(inputs=inputs, outputs=output)\n",
        "model.compile(optimizer='adam', loss='categorical_crossentropy', metrics=['accuracy'])\n",
        "model.summary()\n"
      ],
      "metadata": {
        "colab": {
          "base_uri": "https://localhost:8080/",
          "height": 289
        },
        "id": "Ez6C9eT4Kge1",
        "outputId": "891e4b47-9109-4d9b-bed5-521eee4e38cd"
      },
      "execution_count": 10,
      "outputs": [
        {
          "output_type": "display_data",
          "data": {
            "text/plain": [
              "\u001b[1mModel: \"functional_1\"\u001b[0m\n"
            ],
            "text/html": [
              "<pre style=\"white-space:pre;overflow-x:auto;line-height:normal;font-family:Menlo,'DejaVu Sans Mono',consolas,'Courier New',monospace\"><span style=\"font-weight: bold\">Model: \"functional_1\"</span>\n",
              "</pre>\n"
            ]
          },
          "metadata": {}
        },
        {
          "output_type": "display_data",
          "data": {
            "text/plain": [
              "┏━━━━━━━━━━━━━━━━━━━━━━━━━━━━━━━━━━━━━━┳━━━━━━━━━━━━━━━━━━━━━━━━━━━━━┳━━━━━━━━━━━━━━━━━┓\n",
              "┃\u001b[1m \u001b[0m\u001b[1mLayer (type)                        \u001b[0m\u001b[1m \u001b[0m┃\u001b[1m \u001b[0m\u001b[1mOutput Shape               \u001b[0m\u001b[1m \u001b[0m┃\u001b[1m \u001b[0m\u001b[1m        Param #\u001b[0m\u001b[1m \u001b[0m┃\n",
              "┡━━━━━━━━━━━━━━━━━━━━━━━━━━━━━━━━━━━━━━╇━━━━━━━━━━━━━━━━━━━━━━━━━━━━━╇━━━━━━━━━━━━━━━━━┩\n",
              "│ input_layer_1 (\u001b[38;5;33mInputLayer\u001b[0m)           │ (\u001b[38;5;45mNone\u001b[0m, \u001b[38;5;34m3\u001b[0m)                   │               \u001b[38;5;34m0\u001b[0m │\n",
              "├──────────────────────────────────────┼─────────────────────────────┼─────────────────┤\n",
              "│ embedding_1 (\u001b[38;5;33mEmbedding\u001b[0m)              │ (\u001b[38;5;45mNone\u001b[0m, \u001b[38;5;34m3\u001b[0m, \u001b[38;5;34m64\u001b[0m)               │       \u001b[38;5;34m2,889,920\u001b[0m │\n",
              "├──────────────────────────────────────┼─────────────────────────────┼─────────────────┤\n",
              "│ flatten_1 (\u001b[38;5;33mFlatten\u001b[0m)                  │ (\u001b[38;5;45mNone\u001b[0m, \u001b[38;5;34m192\u001b[0m)                 │               \u001b[38;5;34m0\u001b[0m │\n",
              "├──────────────────────────────────────┼─────────────────────────────┼─────────────────┤\n",
              "│ dense_2 (\u001b[38;5;33mDense\u001b[0m)                      │ (\u001b[38;5;45mNone\u001b[0m, \u001b[38;5;34m64\u001b[0m)                  │          \u001b[38;5;34m12,352\u001b[0m │\n",
              "├──────────────────────────────────────┼─────────────────────────────┼─────────────────┤\n",
              "│ dense_3 (\u001b[38;5;33mDense\u001b[0m)                      │ (\u001b[38;5;45mNone\u001b[0m, \u001b[38;5;34m13\u001b[0m)                  │             \u001b[38;5;34m845\u001b[0m │\n",
              "└──────────────────────────────────────┴─────────────────────────────┴─────────────────┘\n"
            ],
            "text/html": [
              "<pre style=\"white-space:pre;overflow-x:auto;line-height:normal;font-family:Menlo,'DejaVu Sans Mono',consolas,'Courier New',monospace\">┏━━━━━━━━━━━━━━━━━━━━━━━━━━━━━━━━━━━━━━┳━━━━━━━━━━━━━━━━━━━━━━━━━━━━━┳━━━━━━━━━━━━━━━━━┓\n",
              "┃<span style=\"font-weight: bold\"> Layer (type)                         </span>┃<span style=\"font-weight: bold\"> Output Shape                </span>┃<span style=\"font-weight: bold\">         Param # </span>┃\n",
              "┡━━━━━━━━━━━━━━━━━━━━━━━━━━━━━━━━━━━━━━╇━━━━━━━━━━━━━━━━━━━━━━━━━━━━━╇━━━━━━━━━━━━━━━━━┩\n",
              "│ input_layer_1 (<span style=\"color: #0087ff; text-decoration-color: #0087ff\">InputLayer</span>)           │ (<span style=\"color: #00d7ff; text-decoration-color: #00d7ff\">None</span>, <span style=\"color: #00af00; text-decoration-color: #00af00\">3</span>)                   │               <span style=\"color: #00af00; text-decoration-color: #00af00\">0</span> │\n",
              "├──────────────────────────────────────┼─────────────────────────────┼─────────────────┤\n",
              "│ embedding_1 (<span style=\"color: #0087ff; text-decoration-color: #0087ff\">Embedding</span>)              │ (<span style=\"color: #00d7ff; text-decoration-color: #00d7ff\">None</span>, <span style=\"color: #00af00; text-decoration-color: #00af00\">3</span>, <span style=\"color: #00af00; text-decoration-color: #00af00\">64</span>)               │       <span style=\"color: #00af00; text-decoration-color: #00af00\">2,889,920</span> │\n",
              "├──────────────────────────────────────┼─────────────────────────────┼─────────────────┤\n",
              "│ flatten_1 (<span style=\"color: #0087ff; text-decoration-color: #0087ff\">Flatten</span>)                  │ (<span style=\"color: #00d7ff; text-decoration-color: #00d7ff\">None</span>, <span style=\"color: #00af00; text-decoration-color: #00af00\">192</span>)                 │               <span style=\"color: #00af00; text-decoration-color: #00af00\">0</span> │\n",
              "├──────────────────────────────────────┼─────────────────────────────┼─────────────────┤\n",
              "│ dense_2 (<span style=\"color: #0087ff; text-decoration-color: #0087ff\">Dense</span>)                      │ (<span style=\"color: #00d7ff; text-decoration-color: #00d7ff\">None</span>, <span style=\"color: #00af00; text-decoration-color: #00af00\">64</span>)                  │          <span style=\"color: #00af00; text-decoration-color: #00af00\">12,352</span> │\n",
              "├──────────────────────────────────────┼─────────────────────────────┼─────────────────┤\n",
              "│ dense_3 (<span style=\"color: #0087ff; text-decoration-color: #0087ff\">Dense</span>)                      │ (<span style=\"color: #00d7ff; text-decoration-color: #00d7ff\">None</span>, <span style=\"color: #00af00; text-decoration-color: #00af00\">13</span>)                  │             <span style=\"color: #00af00; text-decoration-color: #00af00\">845</span> │\n",
              "└──────────────────────────────────────┴─────────────────────────────┴─────────────────┘\n",
              "</pre>\n"
            ]
          },
          "metadata": {}
        },
        {
          "output_type": "display_data",
          "data": {
            "text/plain": [
              "\u001b[1m Total params: \u001b[0m\u001b[38;5;34m2,903,117\u001b[0m (11.07 MB)\n"
            ],
            "text/html": [
              "<pre style=\"white-space:pre;overflow-x:auto;line-height:normal;font-family:Menlo,'DejaVu Sans Mono',consolas,'Courier New',monospace\"><span style=\"font-weight: bold\"> Total params: </span><span style=\"color: #00af00; text-decoration-color: #00af00\">2,903,117</span> (11.07 MB)\n",
              "</pre>\n"
            ]
          },
          "metadata": {}
        },
        {
          "output_type": "display_data",
          "data": {
            "text/plain": [
              "\u001b[1m Trainable params: \u001b[0m\u001b[38;5;34m2,903,117\u001b[0m (11.07 MB)\n"
            ],
            "text/html": [
              "<pre style=\"white-space:pre;overflow-x:auto;line-height:normal;font-family:Menlo,'DejaVu Sans Mono',consolas,'Courier New',monospace\"><span style=\"font-weight: bold\"> Trainable params: </span><span style=\"color: #00af00; text-decoration-color: #00af00\">2,903,117</span> (11.07 MB)\n",
              "</pre>\n"
            ]
          },
          "metadata": {}
        },
        {
          "output_type": "display_data",
          "data": {
            "text/plain": [
              "\u001b[1m Non-trainable params: \u001b[0m\u001b[38;5;34m0\u001b[0m (0.00 B)\n"
            ],
            "text/html": [
              "<pre style=\"white-space:pre;overflow-x:auto;line-height:normal;font-family:Menlo,'DejaVu Sans Mono',consolas,'Courier New',monospace\"><span style=\"font-weight: bold\"> Non-trainable params: </span><span style=\"color: #00af00; text-decoration-color: #00af00\">0</span> (0.00 B)\n",
              "</pre>\n"
            ]
          },
          "metadata": {}
        }
      ]
    },
    {
      "cell_type": "markdown",
      "source": [
        "# Тренуємо модель\n"
      ],
      "metadata": {
        "id": "DrQAZMXxeoY2"
      }
    },
    {
      "cell_type": "code",
      "source": [
        "\n",
        "model.fit(\n",
        "    X_train,\n",
        "    y_train_cat,\n",
        "    batch_size=128,\n",
        "    epochs=5,\n",
        "    validation_split=0.1,\n",
        "    verbose=1\n",
        ")"
      ],
      "metadata": {
        "colab": {
          "base_uri": "https://localhost:8080/"
        },
        "id": "jTCTtm1vd6s8",
        "outputId": "393414fa-01e2-4e28-df36-0c33edf9f45d"
      },
      "execution_count": null,
      "outputs": [
        {
          "output_type": "stream",
          "name": "stdout",
          "text": [
            "Epoch 1/5\n",
            "\u001b[1m6533/6533\u001b[0m \u001b[32m━━━━━━━━━━━━━━━━━━━━\u001b[0m\u001b[37m\u001b[0m \u001b[1m207s\u001b[0m 32ms/step - accuracy: 0.9066 - loss: 0.3467 - val_accuracy: 0.9734 - val_loss: 0.0802\n",
            "Epoch 2/5\n",
            "\u001b[1m6533/6533\u001b[0m \u001b[32m━━━━━━━━━━━━━━━━━━━━\u001b[0m\u001b[37m\u001b[0m \u001b[1m256s\u001b[0m 31ms/step - accuracy: 0.9860 - loss: 0.0434 - val_accuracy: 0.9760 - val_loss: 0.0732\n",
            "Epoch 3/5\n",
            "\u001b[1m6533/6533\u001b[0m \u001b[32m━━━━━━━━━━━━━━━━━━━━\u001b[0m\u001b[37m\u001b[0m \u001b[1m194s\u001b[0m 29ms/step - accuracy: 0.9905 - loss: 0.0284 - val_accuracy: 0.9766 - val_loss: 0.0736\n",
            "Epoch 4/5\n",
            "\u001b[1m6533/6533\u001b[0m \u001b[32m━━━━━━━━━━━━━━━━━━━━\u001b[0m\u001b[37m\u001b[0m \u001b[1m204s\u001b[0m 30ms/step - accuracy: 0.9926 - loss: 0.0222 - val_accuracy: 0.9759 - val_loss: 0.0775\n",
            "Epoch 5/5\n",
            "\u001b[1m4662/6533\u001b[0m \u001b[32m━━━━━━━━━━━━━━\u001b[0m\u001b[37m━━━━━━\u001b[0m \u001b[1m54s\u001b[0m 29ms/step - accuracy: 0.9937 - loss: 0.0182"
          ]
        }
      ]
    },
    {
      "cell_type": "markdown",
      "source": [
        "# Перевіряємо модель на тестових даних"
      ],
      "metadata": {
        "id": "rSnaNL4ke3Lk"
      }
    },
    {
      "cell_type": "code",
      "source": [
        "loss, accuracy = model.evaluate(X_test, y_test_cat, verbose=1)\n",
        "print(\"Test accuracy: {:.2f}%\".format(100 * accuracy))"
      ],
      "metadata": {
        "colab": {
          "base_uri": "https://localhost:8080/"
        },
        "id": "HhfWM1P_d76k",
        "outputId": "ef8471ec-c369-4dcb-c2b9-8b340cafda2e"
      },
      "execution_count": 17,
      "outputs": [
        {
          "output_type": "stream",
          "name": "stdout",
          "text": [
            "\u001b[1m7256/7256\u001b[0m \u001b[32m━━━━━━━━━━━━━━━━━━━━\u001b[0m\u001b[37m\u001b[0m \u001b[1m12s\u001b[0m 2ms/step - accuracy: 0.9761 - loss: 0.0799\n",
            "Test accuracy: 97.61%\n"
          ]
        }
      ]
    },
    {
      "cell_type": "markdown",
      "source": [
        "# Пояснення до результатів"
      ],
      "metadata": {
        "id": "KZH13q1ulIEo"
      }
    },
    {
      "cell_type": "markdown",
      "source": [
        "\n",
        "| Tag   | Description                  | Examples                      |\n",
        "|-------|------------------------------|-------------------------------|\n",
        "| **ADJ**   | Adjective                    | *big*, *old*, *blue*            |\n",
        "| **ADV**   | Adverb                       | *quickly*, *very*, *well*       |\n",
        "| **NOUN**  | Noun                         | *dog*, *city*, *car*            |\n",
        "| **PRON**  | Pronoun                      | *I*, *you*, *he*, *she*         |\n",
        "| **VERB**  | Verb                         | *run*, *eat*, *be*              |\n",
        "| **.**     | Other                        |             |\n"
      ],
      "metadata": {
        "id": "KFnbK01_jnpA"
      }
    },
    {
      "cell_type": "markdown",
      "source": [
        "# Речення користувача і результат\n"
      ],
      "metadata": {
        "id": "1VJ6gExJiJ8G"
      }
    },
    {
      "cell_type": "code",
      "source": [
        "\n",
        "# User input and prediction\n",
        "from nltk.tokenize import TreebankWordTokenizer\n",
        "tokenizer = TreebankWordTokenizer()\n",
        "\n",
        "import builtins\n",
        "input = builtins.input\n",
        "\n",
        "user_input = input(\"\\nEnter a sentence to analyze: \")\n",
        "sentence = tokenizer.tokenize(user_input)\n",
        "encoded_sentence = [word2idx.get(word.lower(), word2idx['UNK']) for word in sentence]\n",
        "padded_sentence = [word2idx['PAD']] + encoded_sentence + [word2idx['PAD']]\n",
        "\n",
        "X_user = []\n",
        "for i in range(1, len(padded_sentence) - 1):\n",
        "    context = padded_sentence[i - 1:i + 2]\n",
        "    X_user.append(context)\n",
        "\n",
        "X_user = np.array(X_user)\n",
        "\n",
        "predictions = model.predict(X_user)\n",
        "predicted_tags_indices = np.argmax(predictions, axis=1)\n",
        "predicted_tags = [idx2tag[idx] for idx in predicted_tags_indices]\n",
        "\n",
        "print(\"\\nPredicted tags:\")\n",
        "for word, tag in zip(sentence, predicted_tags):\n",
        "    print(f\"{word}\\t{tag}\")\n"
      ],
      "metadata": {
        "colab": {
          "base_uri": "https://localhost:8080/"
        },
        "id": "IfHEVbXlPtVP",
        "outputId": "385546b8-3bec-4820-b340-1c393c26ec16"
      },
      "execution_count": 15,
      "outputs": [
        {
          "output_type": "stream",
          "name": "stdout",
          "text": [
            "\n",
            "Enter a sentence to analyze: today is a really nice day\n",
            "\u001b[1m1/1\u001b[0m \u001b[32m━━━━━━━━━━━━━━━━━━━━\u001b[0m\u001b[37m\u001b[0m \u001b[1m0s\u001b[0m 66ms/step\n",
            "\n",
            "Predicted tags:\n",
            "today\tNOUN\n",
            "is\tVERB\n",
            "a\tDET\n",
            "really\tADV\n",
            "nice\tADJ\n",
            "day\tNOUN\n"
          ]
        }
      ]
    },
    {
      "cell_type": "code",
      "source": [
        "import matplotlib.pyplot as plt\n",
        "import seaborn as sns\n",
        "from sklearn.metrics import confusion_matrix\n",
        "\n",
        "y_pred = model.predict(X_test)\n",
        "y_pred_indices = np.argmax(y_pred, axis=1)\n",
        "\n",
        "predicted_tags = [idx2tag[idx] for idx in y_pred_indices]\n",
        "true_tags = [idx2tag[idx] for idx in y_test]\n",
        "\n",
        "mask = np.array(true_tags) != 'PAD'\n",
        "predicted_tags_filtered = np.array(predicted_tags)[mask]\n",
        "true_tags_filtered = np.array(true_tags)[mask]\n",
        "\n",
        "unique_tags = sorted(set(true_tags_filtered))\n",
        "tag_index = {tag: i for i, tag in enumerate(unique_tags)}\n",
        "\n",
        "y_true_indices = [tag_index[tag] for tag in true_tags_filtered]\n",
        "y_pred_indices_filtered = [tag_index[tag] for tag in predicted_tags_filtered]\n",
        "\n",
        "cm = confusion_matrix(y_true_indices, y_pred_indices_filtered)\n",
        "\n",
        "plt.figure(figsize=(12, 10))\n",
        "sns.heatmap(cm, annot=True, fmt='d', xticklabels=unique_tags, yticklabels=unique_tags,\n",
        "            cmap='Blues', cbar=False)\n",
        "plt.xlabel('Predicted')\n",
        "plt.ylabel('True')\n",
        "plt.title('Confusion Matrix for POS Tagging Model')\n",
        "plt.show()"
      ],
      "metadata": {
        "colab": {
          "base_uri": "https://localhost:8080/",
          "height": 889
        },
        "id": "wMYjtVazXnQN",
        "outputId": "6a031ac7-d63d-4844-cb23-06f8de346e6b"
      },
      "execution_count": 16,
      "outputs": [
        {
          "output_type": "stream",
          "name": "stdout",
          "text": [
            "\u001b[1m7256/7256\u001b[0m \u001b[32m━━━━━━━━━━━━━━━━━━━━\u001b[0m\u001b[37m\u001b[0m \u001b[1m24s\u001b[0m 3ms/step\n"
          ]
        },
        {
          "output_type": "display_data",
          "data": {
            "text/plain": [
              "<Figure size 1200x1000 with 1 Axes>"
            ],
            "image/png": "[encoded data removed]"
          },
          "metadata": {}
        }
      ]
    },
    {
      "cell_type": "code",
      "source": [],
      "metadata": {
        "id": "Yf3SjXxtXnqH"
      },
      "execution_count": null,
      "outputs": []
    }
  ],
  "metadata": {
    "colab": {
      "provenance": []
    },
    "kernelspec": {
      "display_name": "Python 3",
      "name": "python3"
    },
    "language_info": {
      "name": "python"
    }
  },
  "nbformat": 4,
  "nbformat_minor": 0
}