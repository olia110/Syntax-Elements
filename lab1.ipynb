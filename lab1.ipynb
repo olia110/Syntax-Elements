{
  "cells": [
    {
      "cell_type": "markdown",
      "metadata": {
        "id": "o2bjMw7fB-jh"
      },
      "source": [
        "# **2. Елементи синтаксису**\n",
        "Сірікова Ольга МІ-41"
      ]
    },
    {
      "cell_type": "markdown",
      "source": [
        "# Додаємо необхідні бібліотеки\n"
      ],
      "metadata": {
        "id": "uLYXIusCguJC"
      }
    },
    {
      "cell_type": "code",
      "source": [
        "import nltk\n",
        "import random\n",
        "import numpy as np\n",
        "from nltk.corpus import brown\n",
        "from tensorflow.keras.models import Model\n",
        "from tensorflow.keras.layers import Input, Embedding, Dense, Flatten\n",
        "from tensorflow.keras.utils import to_categorical"
      ],
      "metadata": {
        "id": "Se6jfHFqXJX3"
      },
      "execution_count": 2,
      "outputs": []
    },
    {
      "cell_type": "code",
      "source": [
        "nltk.download('brown')\n",
        "nltk.download('universal_tagset')\n",
        "nltk.download('punkt')"
      ],
      "metadata": {
        "colab": {
          "base_uri": "https://localhost:8080/"
        },
        "id": "AB44KpEUYeI0",
        "outputId": "3c0741bb-4be1-42e7-9966-e0f3a1b7ea37"
      },
      "execution_count": 3,
      "outputs": [
        {
          "output_type": "stream",
          "name": "stderr",
          "text": [
            "[nltk_data] Downloading package brown to /root/nltk_data...\n",
            "[nltk_data]   Unzipping corpora/brown.zip.\n",
            "[nltk_data] Downloading package universal_tagset to /root/nltk_data...\n",
            "[nltk_data]   Unzipping taggers/universal_tagset.zip.\n",
            "[nltk_data] Downloading package punkt to /root/nltk_data...\n",
            "[nltk_data]   Unzipping tokenizers/punkt.zip.\n"
          ]
        },
        {
          "output_type": "execute_result",
          "data": {
            "text/plain": [
              "True"
            ]
          },
          "metadata": {},
          "execution_count": 3
        }
      ]
    },
    {
      "cell_type": "code",
      "source": [
        "tagged_sentences = list(brown.tagged_sents(tagset='universal'))\n",
        "random.seed(42)\n",
        "random.shuffle(tagged_sentences)"
      ],
      "metadata": {
        "id": "kbyheTb8Yhad"
      },
      "execution_count": 4,
      "outputs": []
    },
    {
      "cell_type": "markdown",
      "source": [
        "# Розділяємо дані"
      ],
      "metadata": {
        "id": "hSIiZ2uDkGpI"
      }
    },
    {
      "cell_type": "markdown",
      "source": [
        "80% на тренування і 20% для тестування"
      ],
      "metadata": {
        "id": "RIaB8PlSspGO"
      }
    },
    {
      "cell_type": "code",
      "source": [
        "split = int(0.8 * len(tagged_sentences))\n",
        "train_sentences = tagged_sentences[:split]\n",
        "test_sentences = tagged_sentences[split:]"
      ],
      "metadata": {
        "id": "SDakjPxHkGFp"
      },
      "execution_count": 5,
      "outputs": []
    },
    {
      "cell_type": "markdown",
      "source": [
        "# Виділяємо слова і теги з речень у списки\n"
      ],
      "metadata": {
        "id": "guQry1rcrOQL"
      }
    },
    {
      "cell_type": "code",
      "source": [
        "def get_words_and_tags(sentences):\n",
        "    sentences_words = []\n",
        "    sentences_tags = []\n",
        "    for sentence in sentences:\n",
        "        words = [word.lower() for word, tag in sentence]\n",
        "        tags = [tag for word, tag in sentence]\n",
        "        sentences_words.append(words)\n",
        "        sentences_tags.append(tags)\n",
        "    return sentences_words, sentences_tags\n",
        "\n",
        "train_words, train_tags = get_words_and_tags(train_sentences)\n",
        "test_words, test_tags = get_words_and_tags(test_sentences)"
      ],
      "metadata": {
        "id": "1JztlhOjZZre"
      },
      "execution_count": 6,
      "outputs": []
    },
    {
      "cell_type": "code",
      "source": [
        "words = set([w for s in train_words for w in s])\n",
        "tags = set([t for s in train_tags for t in s])\n",
        "\n",
        "word2idx = {w: i + 2 for i, w in enumerate(words)}\n",
        "word2idx['PAD'] = 0\n",
        "word2idx['UNK'] = 1\n",
        "\n",
        "tag2idx = {t: i for i, t in enumerate(tags)}\n",
        "\n",
        "idx2word = {i: w for w, i in word2idx.items()}\n",
        "idx2tag = {i: t for t, i in tag2idx.items()}\n",
        "\n",
        "n_words = len(word2idx)\n",
        "n_tags = len(tag2idx)\n"
      ],
      "metadata": {
        "id": "meOtB72FZdK9"
      },
      "execution_count": 7,
      "outputs": []
    },
    {
      "cell_type": "code",
      "source": [
        "def encode_sentences(sentences, word2idx):\n",
        "    encoded_sentences = []\n",
        "    for sentence in sentences:\n",
        "        encoded_sentence = []\n",
        "        for word in sentence:\n",
        "            encoded_sentence.append(word2idx.get(word, word2idx['UNK']))\n",
        "        encoded_sentences.append(encoded_sentence)\n",
        "    return encoded_sentences\n",
        "\n",
        "def encode_tags(sentences_tags, tag2idx):\n",
        "    encoded_tags = []\n",
        "    for tags in sentences_tags:\n",
        "        encoded_tag = [tag2idx[tag] for tag in tags]\n",
        "        encoded_tags.append(encoded_tag)\n",
        "    return encoded_tags"
      ],
      "metadata": {
        "id": "88641jmHZgZt"
      },
      "execution_count": 8,
      "outputs": []
    },
    {
      "cell_type": "code",
      "source": [
        "X_train = encode_sentences(train_words, word2idx)\n",
        "y_train = encode_tags(train_tags, tag2idx)\n",
        "\n",
        "X_test = encode_sentences(test_words, word2idx)\n",
        "y_test = encode_tags(test_tags, tag2idx)\n",
        "\n",
        "X_train_flat = [word for sentence in X_train for word in sentence]\n",
        "y_train_flat = [tag for tags in y_train for tag in tags]\n",
        "\n",
        "X_test_flat = [word for sentence in X_test for word in sentence]\n",
        "y_test_flat = [tag for tags in y_test for tag in tags]\n",
        "\n",
        "X_train_flat = np.array(X_train_flat)\n",
        "y_train_flat = np.array(y_train_flat)\n",
        "\n",
        "X_test_flat = np.array(X_test_flat)\n",
        "y_test_flat = np.array(y_test_flat)\n",
        "\n",
        "y_train_cat = to_categorical(y_train_flat, num_classes=n_tags)\n",
        "y_test_cat = to_categorical(y_test_flat, num_classes=n_tags)\n",
        "\n",
        "inputs = Input(shape=(1,))\n",
        "embedding = Embedding(input_dim=n_words, output_dim=64, input_length=1)(inputs)\n",
        "flatten = Flatten()(embedding)\n",
        "dense = Dense(64, activation='relu')(flatten)\n",
        "output = Dense(n_tags, activation='softmax')(dense)\n",
        "\n",
        "model = Model(inputs=inputs, outputs=output)\n",
        "model.compile(optimizer='adam', loss='categorical_crossentropy', metrics=['accuracy'])\n",
        "model.summary()"
      ],
      "metadata": {
        "colab": {
          "base_uri": "https://localhost:8080/",
          "height": 323
        },
        "id": "Ez6C9eT4Kge1",
        "outputId": "995194a6-a7c2-4ce9-f2d9-f672df839d00"
      },
      "execution_count": 9,
      "outputs": [
        {
          "output_type": "stream",
          "name": "stderr",
          "text": [
            "/usr/local/lib/python3.10/dist-packages/keras/src/layers/core/embedding.py:90: UserWarning: Argument `input_length` is deprecated. Just remove it.\n",
            "  warnings.warn(\n"
          ]
        },
        {
          "output_type": "display_data",
          "data": {
            "text/plain": [
              "\u001b[1mModel: \"functional\"\u001b[0m\n"
            ],
            "text/html": [
              "<pre style=\"white-space:pre;overflow-x:auto;line-height:normal;font-family:Menlo,'DejaVu Sans Mono',consolas,'Courier New',monospace\"><span style=\"font-weight: bold\">Model: \"functional\"</span>\n",
              "</pre>\n"
            ]
          },
          "metadata": {}
        },
        {
          "output_type": "display_data",
          "data": {
            "text/plain": [
              "┏━━━━━━━━━━━━━━━━━━━━━━━━━━━━━━━━━━━━━━┳━━━━━━━━━━━━━━━━━━━━━━━━━━━━━┳━━━━━━━━━━━━━━━━━┓\n",
              "┃\u001b[1m \u001b[0m\u001b[1mLayer (type)                        \u001b[0m\u001b[1m \u001b[0m┃\u001b[1m \u001b[0m\u001b[1mOutput Shape               \u001b[0m\u001b[1m \u001b[0m┃\u001b[1m \u001b[0m\u001b[1m        Param #\u001b[0m\u001b[1m \u001b[0m┃\n",
              "┡━━━━━━━━━━━━━━━━━━━━━━━━━━━━━━━━━━━━━━╇━━━━━━━━━━━━━━━━━━━━━━━━━━━━━╇━━━━━━━━━━━━━━━━━┩\n",
              "│ input_layer (\u001b[38;5;33mInputLayer\u001b[0m)             │ (\u001b[38;5;45mNone\u001b[0m, \u001b[38;5;34m1\u001b[0m)                   │               \u001b[38;5;34m0\u001b[0m │\n",
              "├──────────────────────────────────────┼─────────────────────────────┼─────────────────┤\n",
              "│ embedding (\u001b[38;5;33mEmbedding\u001b[0m)                │ (\u001b[38;5;45mNone\u001b[0m, \u001b[38;5;34m1\u001b[0m, \u001b[38;5;34m64\u001b[0m)               │       \u001b[38;5;34m2,889,920\u001b[0m │\n",
              "├──────────────────────────────────────┼─────────────────────────────┼─────────────────┤\n",
              "│ flatten (\u001b[38;5;33mFlatten\u001b[0m)                    │ (\u001b[38;5;45mNone\u001b[0m, \u001b[38;5;34m64\u001b[0m)                  │               \u001b[38;5;34m0\u001b[0m │\n",
              "├──────────────────────────────────────┼─────────────────────────────┼─────────────────┤\n",
              "│ dense (\u001b[38;5;33mDense\u001b[0m)                        │ (\u001b[38;5;45mNone\u001b[0m, \u001b[38;5;34m64\u001b[0m)                  │           \u001b[38;5;34m4,160\u001b[0m │\n",
              "├──────────────────────────────────────┼─────────────────────────────┼─────────────────┤\n",
              "│ dense_1 (\u001b[38;5;33mDense\u001b[0m)                      │ (\u001b[38;5;45mNone\u001b[0m, \u001b[38;5;34m12\u001b[0m)                  │             \u001b[38;5;34m780\u001b[0m │\n",
              "└──────────────────────────────────────┴─────────────────────────────┴─────────────────┘\n"
            ],
            "text/html": [
              "<pre style=\"white-space:pre;overflow-x:auto;line-height:normal;font-family:Menlo,'DejaVu Sans Mono',consolas,'Courier New',monospace\">┏━━━━━━━━━━━━━━━━━━━━━━━━━━━━━━━━━━━━━━┳━━━━━━━━━━━━━━━━━━━━━━━━━━━━━┳━━━━━━━━━━━━━━━━━┓\n",
              "┃<span style=\"font-weight: bold\"> Layer (type)                         </span>┃<span style=\"font-weight: bold\"> Output Shape                </span>┃<span style=\"font-weight: bold\">         Param # </span>┃\n",
              "┡━━━━━━━━━━━━━━━━━━━━━━━━━━━━━━━━━━━━━━╇━━━━━━━━━━━━━━━━━━━━━━━━━━━━━╇━━━━━━━━━━━━━━━━━┩\n",
              "│ input_layer (<span style=\"color: #0087ff; text-decoration-color: #0087ff\">InputLayer</span>)             │ (<span style=\"color: #00d7ff; text-decoration-color: #00d7ff\">None</span>, <span style=\"color: #00af00; text-decoration-color: #00af00\">1</span>)                   │               <span style=\"color: #00af00; text-decoration-color: #00af00\">0</span> │\n",
              "├──────────────────────────────────────┼─────────────────────────────┼─────────────────┤\n",
              "│ embedding (<span style=\"color: #0087ff; text-decoration-color: #0087ff\">Embedding</span>)                │ (<span style=\"color: #00d7ff; text-decoration-color: #00d7ff\">None</span>, <span style=\"color: #00af00; text-decoration-color: #00af00\">1</span>, <span style=\"color: #00af00; text-decoration-color: #00af00\">64</span>)               │       <span style=\"color: #00af00; text-decoration-color: #00af00\">2,889,920</span> │\n",
              "├──────────────────────────────────────┼─────────────────────────────┼─────────────────┤\n",
              "│ flatten (<span style=\"color: #0087ff; text-decoration-color: #0087ff\">Flatten</span>)                    │ (<span style=\"color: #00d7ff; text-decoration-color: #00d7ff\">None</span>, <span style=\"color: #00af00; text-decoration-color: #00af00\">64</span>)                  │               <span style=\"color: #00af00; text-decoration-color: #00af00\">0</span> │\n",
              "├──────────────────────────────────────┼─────────────────────────────┼─────────────────┤\n",
              "│ dense (<span style=\"color: #0087ff; text-decoration-color: #0087ff\">Dense</span>)                        │ (<span style=\"color: #00d7ff; text-decoration-color: #00d7ff\">None</span>, <span style=\"color: #00af00; text-decoration-color: #00af00\">64</span>)                  │           <span style=\"color: #00af00; text-decoration-color: #00af00\">4,160</span> │\n",
              "├──────────────────────────────────────┼─────────────────────────────┼─────────────────┤\n",
              "│ dense_1 (<span style=\"color: #0087ff; text-decoration-color: #0087ff\">Dense</span>)                      │ (<span style=\"color: #00d7ff; text-decoration-color: #00d7ff\">None</span>, <span style=\"color: #00af00; text-decoration-color: #00af00\">12</span>)                  │             <span style=\"color: #00af00; text-decoration-color: #00af00\">780</span> │\n",
              "└──────────────────────────────────────┴─────────────────────────────┴─────────────────┘\n",
              "</pre>\n"
            ]
          },
          "metadata": {}
        },
        {
          "output_type": "display_data",
          "data": {
            "text/plain": [
              "\u001b[1m Total params: \u001b[0m\u001b[38;5;34m2,894,860\u001b[0m (11.04 MB)\n"
            ],
            "text/html": [
              "<pre style=\"white-space:pre;overflow-x:auto;line-height:normal;font-family:Menlo,'DejaVu Sans Mono',consolas,'Courier New',monospace\"><span style=\"font-weight: bold\"> Total params: </span><span style=\"color: #00af00; text-decoration-color: #00af00\">2,894,860</span> (11.04 MB)\n",
              "</pre>\n"
            ]
          },
          "metadata": {}
        },
        {
          "output_type": "display_data",
          "data": {
            "text/plain": [
              "\u001b[1m Trainable params: \u001b[0m\u001b[38;5;34m2,894,860\u001b[0m (11.04 MB)\n"
            ],
            "text/html": [
              "<pre style=\"white-space:pre;overflow-x:auto;line-height:normal;font-family:Menlo,'DejaVu Sans Mono',consolas,'Courier New',monospace\"><span style=\"font-weight: bold\"> Trainable params: </span><span style=\"color: #00af00; text-decoration-color: #00af00\">2,894,860</span> (11.04 MB)\n",
              "</pre>\n"
            ]
          },
          "metadata": {}
        },
        {
          "output_type": "display_data",
          "data": {
            "text/plain": [
              "\u001b[1m Non-trainable params: \u001b[0m\u001b[38;5;34m0\u001b[0m (0.00 B)\n"
            ],
            "text/html": [
              "<pre style=\"white-space:pre;overflow-x:auto;line-height:normal;font-family:Menlo,'DejaVu Sans Mono',consolas,'Courier New',monospace\"><span style=\"font-weight: bold\"> Non-trainable params: </span><span style=\"color: #00af00; text-decoration-color: #00af00\">0</span> (0.00 B)\n",
              "</pre>\n"
            ]
          },
          "metadata": {}
        }
      ]
    },
    {
      "cell_type": "markdown",
      "source": [
        "# Тренуємо модель\n"
      ],
      "metadata": {
        "id": "DrQAZMXxeoY2"
      }
    },
    {
      "cell_type": "code",
      "source": [
        "model.fit(\n",
        "    X_train_flat,\n",
        "    y_train_cat,\n",
        "    batch_size=128,\n",
        "    epochs=5,\n",
        "    validation_split=0.1,\n",
        "    verbose=1\n",
        ")"
      ],
      "metadata": {
        "colab": {
          "base_uri": "https://localhost:8080/"
        },
        "id": "jTCTtm1vd6s8",
        "outputId": "72a24e2b-955e-43fd-ddb7-5f84d8a3dd29"
      },
      "execution_count": 10,
      "outputs": [
        {
          "output_type": "stream",
          "name": "stdout",
          "text": [
            "Epoch 1/5\n",
            "\u001b[1m6533/6533\u001b[0m \u001b[32m━━━━━━━━━━━━━━━━━━━━\u001b[0m\u001b[37m\u001b[0m \u001b[1m170s\u001b[0m 26ms/step - accuracy: 0.8816 - loss: 0.4159 - val_accuracy: 0.9424 - val_loss: 0.1546\n",
            "Epoch 2/5\n",
            "\u001b[1m6533/6533\u001b[0m \u001b[32m━━━━━━━━━━━━━━━━━━━━\u001b[0m\u001b[37m\u001b[0m \u001b[1m194s\u001b[0m 30ms/step - accuracy: 0.9521 - loss: 0.1192 - val_accuracy: 0.9430 - val_loss: 0.1512\n",
            "Epoch 3/5\n",
            "\u001b[1m6533/6533\u001b[0m \u001b[32m━━━━━━━━━━━━━━━━━━━━\u001b[0m\u001b[37m\u001b[0m \u001b[1m176s\u001b[0m 26ms/step - accuracy: 0.9536 - loss: 0.1113 - val_accuracy: 0.9398 - val_loss: 0.1531\n",
            "Epoch 4/5\n",
            "\u001b[1m6533/6533\u001b[0m \u001b[32m━━━━━━━━━━━━━━━━━━━━\u001b[0m\u001b[37m\u001b[0m \u001b[1m221s\u001b[0m 29ms/step - accuracy: 0.9538 - loss: 0.1099 - val_accuracy: 0.9441 - val_loss: 0.1528\n",
            "Epoch 5/5\n",
            "\u001b[1m6533/6533\u001b[0m \u001b[32m━━━━━━━━━━━━━━━━━━━━\u001b[0m\u001b[37m\u001b[0m \u001b[1m201s\u001b[0m 29ms/step - accuracy: 0.9547 - loss: 0.1076 - val_accuracy: 0.9443 - val_loss: 0.1531\n"
          ]
        },
        {
          "output_type": "execute_result",
          "data": {
            "text/plain": [
              "<keras.src.callbacks.history.History at 0x7d565e8dc1f0>"
            ]
          },
          "metadata": {},
          "execution_count": 10
        }
      ]
    },
    {
      "cell_type": "markdown",
      "source": [
        "# Перевіряємо модель на тестових даних"
      ],
      "metadata": {
        "id": "rSnaNL4ke3Lk"
      }
    },
    {
      "cell_type": "code",
      "source": [
        "loss, accuracy = model.evaluate(X_test_flat, y_test_cat, verbose=1)\n",
        "print(\"Test accuracy: {:.2f}%\".format(100 * accuracy))"
      ],
      "metadata": {
        "colab": {
          "base_uri": "https://localhost:8080/"
        },
        "id": "HhfWM1P_d76k",
        "outputId": "0fb04d0e-c408-4e66-f0c0-ad6b25dca490"
      },
      "execution_count": 11,
      "outputs": [
        {
          "output_type": "stream",
          "name": "stdout",
          "text": [
            "\u001b[1m7256/7256\u001b[0m \u001b[32m━━━━━━━━━━━━━━━━━━━━\u001b[0m\u001b[37m\u001b[0m \u001b[1m8s\u001b[0m 1ms/step - accuracy: 0.9452 - loss: 0.1547\n",
            "Test accuracy: 94.54%\n"
          ]
        }
      ]
    },
    {
      "cell_type": "markdown",
      "source": [
        "# Пояснення до результатів"
      ],
      "metadata": {
        "id": "KZH13q1ulIEo"
      }
    },
    {
      "cell_type": "markdown",
      "source": [
        "\n",
        "| Tag   | Description                  | Examples                      |\n",
        "|-------|------------------------------|-------------------------------|\n",
        "| **ADJ**   | Adjective                    | *big*, *old*, *blue*            |\n",
        "| **ADV**   | Adverb                       | *quickly*, *very*, *well*       |\n",
        "| **NOUN**  | Noun                         | *dog*, *city*, *car*            |\n",
        "| **PRON**  | Pronoun                      | *I*, *you*, *he*, *she*         |\n",
        "| **VERB**  | Verb                         | *run*, *eat*, *be*              |\n",
        "| **.**     | Other                        |             |\n"
      ],
      "metadata": {
        "id": "KFnbK01_jnpA"
      }
    },
    {
      "cell_type": "markdown",
      "source": [
        "# Речення користувача і результат\n"
      ],
      "metadata": {
        "id": "1VJ6gExJiJ8G"
      }
    },
    {
      "cell_type": "code",
      "source": [
        "from nltk.tokenize import word_tokenize\n",
        "\n",
        "import builtins\n",
        "input = builtins.input\n",
        "\n",
        "user_input = input(\"\\nEnter a sentence to analyze: \")\n",
        "\n",
        "from nltk.tokenize import TreebankWordTokenizer\n",
        "tokenizer = TreebankWordTokenizer()\n",
        "sentence = tokenizer.tokenize(user_input)\n",
        "\n",
        "encoded_sentence = [word2idx.get(word.lower(), word2idx['UNK']) for word in sentence]\n",
        "encoded_sentence = np.array(encoded_sentence)\n",
        "\n",
        "predictions = model.predict(encoded_sentence)\n",
        "predicted_tags_indices = np.argmax(predictions, axis=1)\n",
        "predicted_tags = [idx2tag[idx] for idx in predicted_tags_indices]\n",
        "\n",
        "print(\"\\nPredicted tags:\")\n",
        "for word, tag in zip(sentence, predicted_tags):\n",
        "    print(f\"{word}\\t{tag}\")"
      ],
      "metadata": {
        "colab": {
          "base_uri": "https://localhost:8080/"
        },
        "id": "IfHEVbXlPtVP",
        "outputId": "c4eede6d-90c2-4195-eed8-cfd26ffca4d8"
      },
      "execution_count": 16,
      "outputs": [
        {
          "output_type": "stream",
          "name": "stdout",
          "text": [
            "\n",
            "Enter a sentence to analyze: I love it\n",
            "\u001b[1m1/1\u001b[0m \u001b[32m━━━━━━━━━━━━━━━━━━━━\u001b[0m\u001b[37m\u001b[0m \u001b[1m0s\u001b[0m 33ms/step\n",
            "\n",
            "Predicted tags:\n",
            "I\tPRON\n",
            "love\tNOUN\n",
            "it\tPRON\n"
          ]
        }
      ]
    },
    {
      "cell_type": "code",
      "source": [],
      "metadata": {
        "id": "beTMDfYvwEUp"
      },
      "execution_count": 13,
      "outputs": []
    }
  ],
  "metadata": {
    "colab": {
      "provenance": []
    },
    "kernelspec": {
      "display_name": "Python 3",
      "name": "python3"
    },
    "language_info": {
      "name": "python"
    }
  },
  "nbformat": 4,
  "nbformat_minor": 0
}